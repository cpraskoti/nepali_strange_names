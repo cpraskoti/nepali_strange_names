{
 "cells": [
  {
   "cell_type": "code",
   "execution_count": 3,
   "id": "842ba448",
   "metadata": {},
   "outputs": [],
   "source": [
    "import csv\n",
    "import json\n",
    "\n",
    "def csv_to_json(csv_file_path, json_file_path):\n",
    "    # Open the CSV file for reading\n",
    "    with open(csv_file_path, 'r') as csv_file:\n",
    "        # Read the CSV data\n",
    "        csv_data = csv.DictReader(csv_file)\n",
    "\n",
    "        # Convert CSV to JSON\n",
    "        json_data = json.dumps(list(csv_data), indent=4)\n",
    "\n",
    "        # Write the JSON data to a file\n",
    "        with open(json_file_path, 'w') as json_file:\n",
    "            json_file.write(json_data)\n",
    "\n",
    "# Specify the paths for the CSV and JSON files\n",
    "csv_file_path = '../data/strange_names.csv'\n",
    "json_file_path = 'output.json'\n",
    "\n",
    "# Convert CSV to JSON\n",
    "csv_to_json(csv_file_path, json_file_path)\n"
   ]
  },
  {
   "cell_type": "code",
   "execution_count": null,
   "id": "9a3a3a93",
   "metadata": {},
   "outputs": [],
   "source": []
  }
 ],
 "metadata": {
  "kernelspec": {
   "display_name": ".cl_env",
   "language": "python",
   "name": ".cl_env"
  },
  "language_info": {
   "codemirror_mode": {
    "name": "ipython",
    "version": 3
   },
   "file_extension": ".py",
   "mimetype": "text/x-python",
   "name": "python",
   "nbconvert_exporter": "python",
   "pygments_lexer": "ipython3",
   "version": "3.10.6"
  }
 },
 "nbformat": 4,
 "nbformat_minor": 5
}
